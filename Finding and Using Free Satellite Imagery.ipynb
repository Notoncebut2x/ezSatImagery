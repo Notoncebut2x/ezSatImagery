{
 "cells": [
  {
   "cell_type": "markdown",
   "metadata": {},
   "source": [
    "# Finding and Using Free Satellite Imagery\n",
    "\n",
    "_TechFast Tutorial for 6/21/2019_\n",
    "\n",
    "This `Jupyter Notebook` will take you the processes of finding free, publically available satellite imagery, download and processes it to:\n",
    "- Detect Urban Structures\n",
    "- Agriculture\n",
    "- Vegetation "
   ]
  },
  {
   "cell_type": "markdown",
   "metadata": {},
   "source": [
    "### Step 1 \n",
    "_Getting a bounding box for your Area of Interest_\n",
    "\n",
    "First we need to get a Bounding Box (bbox) for our Area of Interest (AoI).  A bbox is a set of coordinates that incloses the area we would like to pull satellite imagery from. To make it easy to get our bounding box we can use the website below.\n",
    "\n",
    "1. Pan to your area of interest and zoom in\n",
    "2. In the upper lefthand hand corner click on the icon with a square and arrow icon (under the __-__ sign)\n",
    "3. Draw a box around the area you would like to get satellite imagery from\n",
    "4. In the bottom left-hand corner under __Copy & Paste__ change the dropdown menu to `CSV`\n",
    "5. Copy the output to the right.  It should be a serries of four numbers that represent the min and max lattitude and longitudes of the boundingbox\n",
    "\n"
   ]
  },
  {
   "cell_type": "code",
   "execution_count": 93,
   "metadata": {
    "scrolled": true
   },
   "outputs": [
    {
     "data": {
      "text/html": [
       "\n",
       "        <iframe\n",
       "            width=\"900\"\n",
       "            height=\"500\"\n",
       "            src=\"https://boundingbox.klokantech.com\"\n",
       "            frameborder=\"0\"\n",
       "            allowfullscreen\n",
       "        ></iframe>\n",
       "        "
      ],
      "text/plain": [
       "<IPython.lib.display.IFrame at 0x10e0acf60>"
      ]
     },
     "execution_count": 93,
     "metadata": {},
     "output_type": "execute_result"
    }
   ],
   "source": [
    "from IPython.display import IFrame    \n",
    "IFrame('https://boundingbox.klokantech.com', width=900, height=500)\n"
   ]
  },
  {
   "cell_type": "markdown",
   "metadata": {},
   "source": [
    "Paste the bbox in the input below:"
   ]
  },
  {
   "cell_type": "code",
   "execution_count": null,
   "metadata": {},
   "outputs": [],
   "source": [
    "my_bbox = input()\n"
   ]
  },
  {
   "cell_type": "code",
   "execution_count": null,
   "metadata": {},
   "outputs": [],
   "source": [
    "my_bbox = my_bbox.split(',') # splits the string by the \",\" so it is read as individual units\n",
    "my_bbox = [float(x) for x in my_bbox] # converts the list of strings into a list of floats \n",
    "print(my_bbox)\n"
   ]
  },
  {
   "cell_type": "code",
   "execution_count": null,
   "metadata": {},
   "outputs": [],
   "source": [
    "# Search by bbox\n",
    "from satsearch import Search\n",
    "\n",
    "search = Search(bbox=my_bbox)\n",
    "print('bbox search: %s items' % search.found())"
   ]
  },
  {
   "cell_type": "code",
   "execution_count": null,
   "metadata": {},
   "outputs": [],
   "source": [
    "# Search by bbox and Date Range\n",
    "\n",
    "from satsearch import Search\n",
    "\n",
    "search = Search(bbox=my_bbox,\n",
    "               time='2019-06-01T00:00:00Z/2019-06-29T12:31:12Z')\n",
    "print('%s items' % search.found())"
   ]
  },
  {
   "cell_type": "code",
   "execution_count": null,
   "metadata": {},
   "outputs": [],
   "source": [
    "# Print Items it found\n",
    "\n",
    "from satsearch import Search\n",
    "\n",
    "items = search.items()\n",
    "print('%s items' % len(items))\n",
    "print('%s collections' % len(items._collections))\n",
    "print(items.summary())\n",
    "# print(items._collections)\n",
    "\n",
    "#for item in items:\n",
    "#    print(item)"
   ]
  }
 ],
 "metadata": {
  "kernelspec": {
   "display_name": "Python 3",
   "language": "python",
   "name": "python3"
  },
  "language_info": {
   "codemirror_mode": {
    "name": "ipython",
    "version": 3
   },
   "file_extension": ".py",
   "mimetype": "text/x-python",
   "name": "python",
   "nbconvert_exporter": "python",
   "pygments_lexer": "ipython3",
   "version": "3.7.3"
  }
 },
 "nbformat": 4,
 "nbformat_minor": 2
}
